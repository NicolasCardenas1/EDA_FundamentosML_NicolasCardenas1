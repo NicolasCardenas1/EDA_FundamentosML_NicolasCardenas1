{
  "nbformat": 4,
  "nbformat_minor": 0,
  "metadata": {
    "colab": {
      "provenance": [],
      "authorship_tag": "ABX9TyOEGeNmzBhBHPJt3cz5yrpJ",
      "include_colab_link": true
    },
    "kernelspec": {
      "name": "python3",
      "display_name": "Python 3"
    },
    "language_info": {
      "name": "python"
    }
  },
  "cells": [
    {
      "cell_type": "markdown",
      "metadata": {
        "id": "view-in-github",
        "colab_type": "text"
      },
      "source": [
        "<a href=\"https://colab.research.google.com/github/NicolasCardenas1/EDA_FundamentosML_NicolasCardenas1/blob/main/Prueba1.ipynb\" target=\"_parent\"><img src=\"https://colab.research.google.com/assets/colab-badge.svg\" alt=\"Open In Colab\"/></a>"
      ]
    },
    {
      "cell_type": "code",
      "execution_count": 1,
      "metadata": {
        "colab": {
          "base_uri": "https://localhost:8080/"
        },
        "id": "kgk8c_LlU2LG",
        "outputId": "2eba0fe4-a918-4735-94e7-3832a3fea7d2"
      },
      "outputs": [
        {
          "output_type": "stream",
          "name": "stdout",
          "text": [
            "29\n",
            "15.9\n",
            "True\n",
            "(2+5j)\n",
            "Soy un string\n",
            "Tambien soy un string\n"
          ]
        }
      ],
      "source": [
        "# Trabajando con tipos de datos\n",
        "x = 29\n",
        "y = 15.9\n",
        "z = True\n",
        "c = 2 + 5j\n",
        "s = \"Soy un string\"\n",
        "sx = 'Tambien soy un string'\n",
        "# Imprime las variables\n",
        "print(x)\n",
        "print(y)\n",
        "print(z)\n",
        "print(c)\n",
        "print(s)\n",
        "print(sx)"
      ]
    },
    {
      "cell_type": "code",
      "source": [
        "# Operadores artiméticos\n",
        "x = 2 + 8\n",
        "y = 25.4 + 30.4\n",
        "z = 5 // 2 # Operador de división considerando solo la parte entera\n",
        "w = 5 / 2 # Operador de divisón tradicional\n",
        "1\n",
        "r = 12 % 5 # Resto de la división\n",
        "p = z ** 5 # Potencia\n",
        "m = z * 5 # Multiplicación\n",
        "# Imprime los valores\n",
        "print(x)\n",
        "print(y)\n",
        "print(z)\n",
        "print(w)\n",
        "print(r)\n",
        "print(p)\n",
        "print(m)"
      ],
      "metadata": {
        "colab": {
          "base_uri": "https://localhost:8080/"
        },
        "id": "Eu2P8qwpWGzd",
        "outputId": "4ef8e654-cdbc-49b0-bf7b-c10cf6f5db57"
      },
      "execution_count": 2,
      "outputs": [
        {
          "output_type": "stream",
          "name": "stdout",
          "text": [
            "10\n",
            "55.8\n",
            "2\n",
            "2.5\n",
            "2\n",
            "32\n",
            "10\n"
          ]
        }
      ]
    },
    {
      "cell_type": "code",
      "source": [
        "# Operadores de string (cadenas de carateres)\n",
        "x = \"cadena\"\n",
        "y = 'libre'\n",
        "# Operador de concatenación\n",
        "z = x + y\n",
        "# Operador de repetición\n",
        "w = y*4\n",
        "# Imprime las variables\n",
        "print(z)\n",
        "print(x,y) # Notar la concatenación implicita de las cadenas e insertando el espacio de separación\n",
        "print(w)"
      ],
      "metadata": {
        "colab": {
          "base_uri": "https://localhost:8080/"
        },
        "id": "JjVwxapfWZAG",
        "outputId": "067eed73-5110-42cb-b544-06f924547742"
      },
      "execution_count": 4,
      "outputs": [
        {
          "output_type": "stream",
          "name": "stdout",
          "text": [
            "cadenalibre\n",
            "cadena libre\n",
            "librelibrelibrelibre\n"
          ]
        }
      ]
    }
  ]
}